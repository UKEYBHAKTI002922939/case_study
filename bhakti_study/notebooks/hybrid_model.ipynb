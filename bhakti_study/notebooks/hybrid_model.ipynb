{
  "nbformat": 4,
  "nbformat_minor": 0,
  "metadata": {
    "colab": {
      "provenance": []
    },
    "kernelspec": {
      "name": "python3",
      "display_name": "Python 3"
    },
    "language_info": {
      "name": "python"
    }
  },
  "cells": [
    {
      "cell_type": "code",
      "execution_count": null,
      "metadata": {
        "colab": {
          "base_uri": "https://localhost:8080/"
        },
        "id": "gJVSrBkKdp23",
        "outputId": "e0372b22-e20b-41b6-bc40-cf75dfc4219e"
      },
      "outputs": [
        {
          "output_type": "stream",
          "name": "stdout",
          "text": [
            "Mounted at /content/drive\n"
          ]
        }
      ],
      "source": [
        "from google.colab import drive\n",
        "drive.mount('/content/drive')\n"
      ]
    },
    {
      "cell_type": "markdown",
      "source": [
        "Adding Necessary Imports"
      ],
      "metadata": {
        "id": "RYtpiRtepbAn"
      }
    },
    {
      "cell_type": "code",
      "source": [
        "import pandas as pd\n",
        "import numpy as np\n",
        "import re\n",
        "import string\n",
        "from sentence_transformers import SentenceTransformer\n",
        "from sklearn.metrics.pairwise import cosine_similarity\n",
        "from sklearn.model_selection import train_test_split\n",
        "from sklearn.metrics import classification_report, f1_score\n",
        "from tabulate import tabulate\n"
      ],
      "metadata": {
        "id": "kwik9kVKpZXu"
      },
      "execution_count": null,
      "outputs": []
    },
    {
      "cell_type": "markdown",
      "source": [
        "Loading Data --> Renaming Columns  --> Merging content data with labels data"
      ],
      "metadata": {
        "id": "xmVEBzb0gUxl"
      }
    },
    {
      "cell_type": "code",
      "source": [
        "def load_data():\n",
        "    \"\"\"Load and preprocess the datasets.\"\"\"\n",
        "    content_df = pd.read_csv(\"/content/drive/MyDrive/Home_depo/content_data_MASTER.csv\")  # Contains 'title', 'slug'\n",
        "    labels_df = pd.read_csv(\"/content/drive/MyDrive/Home_depo/labels_MASTER.csv\")      # Has incorrect column names\n",
        "    test_df = pd.read_csv(\"/content/drive/MyDrive/Home_depo/test_MASTER.csv\")          # Contains 'searchTerm'\n",
        "\n",
        "    # Rename columns in labels_df\n",
        "    labels_df.rename(columns={'#4 #14 connector': 'searchTerm',\n",
        "                              'types-of-pipe-fittings': 'slug',\n",
        "                              'RELEVANT': 'label'}, inplace=True)\n",
        "\n",
        "    # Merge labels with content to get titles (only labeled rows will have a title)\n",
        "    labels_df = labels_df.merge(content_df, on=\"slug\", how=\"left\")\n",
        "\n",
        "    # Remove rows with missing titles, drop duplicates, and reset index\n",
        "    labels_df.dropna(subset=[\"title\"], inplace=True)\n",
        "    labels_df.drop_duplicates(inplace=True)\n",
        "    labels_df.reset_index(drop=True, inplace=True)\n",
        "    return content_df, labels_df, test_df\n"
      ],
      "metadata": {
        "id": "7soQXb-Dfpek"
      },
      "execution_count": null,
      "outputs": []
    },
    {
      "cell_type": "markdown",
      "source": [
        "Preprocess text by lowercasing, removing punctuation, and extra spaces."
      ],
      "metadata": {
        "id": "BZUVRbNPg3Az"
      }
    },
    {
      "cell_type": "code",
      "source": [
        "def preprocess_text(text):\n",
        "    \"\"\"Preprocess text by lowercasing, removing punctuation, and extra spaces.\"\"\"\n",
        "    text = str(text).lower()\n",
        "    text = re.sub(f\"[{string.punctuation}]\", \"\", text)  # Remove punctuation\n",
        "    text = re.sub(r\"\\s+\", \" \", text).strip()             # Remove extra spaces\n",
        "    return text"
      ],
      "metadata": {
        "id": "YKDW-8aSg4FO"
      },
      "execution_count": null,
      "outputs": []
    },
    {
      "cell_type": "markdown",
      "source": [
        "Apply text preprocessing to search terms and titles."
      ],
      "metadata": {
        "id": "ax2276hNhJ_0"
      }
    },
    {
      "cell_type": "code",
      "source": [
        "def preprocess_data(labels_df):\n",
        "    \"\"\"Apply text preprocessing to search terms and titles.\"\"\"\n",
        "    labels_df[\"processed_search\"] = labels_df[\"searchTerm\"].apply(preprocess_text)\n",
        "    labels_df[\"processed_title\"] = labels_df[\"title\"].apply(preprocess_text)\n",
        "    labels_df[\"processed_slug\"] = labels_df[\"slug\"].apply(preprocess_text)\n",
        "    return labels_df"
      ],
      "metadata": {
        "id": "ZIlEN7mKhIv0"
      },
      "execution_count": null,
      "outputs": []
    },
    {
      "cell_type": "markdown",
      "source": [
        "Vectorize processed text using Hugging Face Sentense Transformer all-MiniLM-L6-v2"
      ],
      "metadata": {
        "id": "Kc34doSahS36"
      }
    },
    {
      "cell_type": "code",
      "source": [
        "def fit_tfidf_and_embeddings(labels_df):\n",
        "    \"\"\"Fit TF-IDF vectorizer and generate sentence embeddings.\"\"\"\n",
        "    tfidf_vectorizer = TfidfVectorizer()\n",
        "    tfidf_matrix = tfidf_vectorizer.fit_transform(labels_df[\"processed_title\"])\n",
        "\n",
        "    model = SentenceTransformer(\"all-MiniLM-L6-v2\")\n",
        "    sentence_embeddings = model.encode(labels_df[\"processed_title\"].tolist(), convert_to_numpy=True)\n",
        "\n",
        "    return tfidf_vectorizer, tfidf_matrix, model, sentence_embeddings\n"
      ],
      "metadata": {
        "id": "eJj5ABAthTjX"
      },
      "execution_count": null,
      "outputs": []
    },
    {
      "cell_type": "markdown",
      "source": [
        "Compute Cosine similarity scores using Sentence Tranformer vectors"
      ],
      "metadata": {
        "id": "7eDE0wOlhh88"
      }
    },
    {
      "cell_type": "code",
      "source": [
        "def compute_similarity(search_term, tfidf_vectorizer, tfidf_matrix, model, sentence_embeddings):\n",
        "    \"\"\"Compute similarity scores using TF-IDF and sentence embeddings.\"\"\"\n",
        "    search_term_processed = preprocess_text(search_term)\n",
        "\n",
        "    # Compute similarity with TF-IDF\n",
        "    search_tfidf = tfidf_vectorizer.transform([search_term_processed])\n",
        "    tfidf_similarities = cosine_similarity(search_tfidf, tfidf_matrix).flatten()\n",
        "\n",
        "    # Compute similarity with Sentence Embeddings\n",
        "    search_embedding = model.encode([search_term_processed], convert_to_numpy=True)\n",
        "    embedding_similarities = cosine_similarity(search_embedding, sentence_embeddings).flatten()\n",
        "\n",
        "    # Hybrid Score (Weighted Combination)\n",
        "    hybrid_scores = 0.2 * tfidf_similarities + 0.7 * embedding_similarities\n",
        "    return hybrid_scores\n"
      ],
      "metadata": {
        "id": "5ZJa0aKVhe20"
      },
      "execution_count": null,
      "outputs": []
    },
    {
      "cell_type": "markdown",
      "source": [
        "Find the best threshold for classifying search terms as RELEVANT or NOT RELEVANT."
      ],
      "metadata": {
        "id": "V29UCrLQhrBp"
      }
    },
    {
      "cell_type": "code",
      "source": [
        "def find_best_threshold(labels_df, tfidf_vectorizer, tfidf_matrix, model, sentence_embeddings):\n",
        "    \"\"\"Find the best threshold for classifying search terms as RELEVANT or NOT RELEVANT.\"\"\"\n",
        "    thresholds = np.linspace(0, 1, 101)\n",
        "    best_threshold = None\n",
        "    best_f1 = 0\n",
        "\n",
        "    # Split labeled data for evaluation\n",
        "    X_train, X_test, y_train, y_test = train_test_split(labels_df[\"processed_search\"], labels_df[\"label\"], test_size=0.2, random_state=42)\n",
        "\n",
        "    # Mapping for binary evaluation\n",
        "    label_mapping = {\"NOT RELEVANT\": 0, \"RELEVANT\": 1}\n",
        "    y_test_num = [label_mapping[label] for label in y_test]\n",
        "\n",
        "    for t in thresholds:\n",
        "        preds = []\n",
        "        for search_term in X_test:\n",
        "            scores = compute_similarity(search_term, tfidf_vectorizer, tfidf_matrix, model, sentence_embeddings)\n",
        "            pred = \"RELEVANT\" if max(scores) > t else \"NOT RELEVANT\"\n",
        "            preds.append(pred)\n",
        "\n",
        "        y_pred_num = [label_mapping[p] for p in preds]\n",
        "        f1 = f1_score(y_test_num, y_pred_num, average=\"macro\")\n",
        "        if f1 > best_f1:\n",
        "            best_f1 = f1\n",
        "            best_threshold = t\n",
        "\n",
        "    return best_threshold, best_f1"
      ],
      "metadata": {
        "id": "bnLNma7KhrYU"
      },
      "execution_count": null,
      "outputs": []
    },
    {
      "cell_type": "markdown",
      "source": [
        "**Model Evaluation**"
      ],
      "metadata": {
        "id": "EA-iENcIh2bS"
      }
    },
    {
      "cell_type": "code",
      "source": [
        "def evaluate_model(labels_df, tfidf_vectorizer, tfidf_matrix, model, sentence_embeddings, threshold):\n",
        "    \"\"\"Evaluate model performance using the best threshold.\"\"\"\n",
        "    X_train, X_test, y_train, y_test = train_test_split(labels_df[\"processed_search\"], labels_df[\"label\"], test_size=0.2, random_state=42)\n",
        "    predictions = []\n",
        "\n",
        "    for search_term in X_test:\n",
        "        scores = compute_similarity(search_term, tfidf_vectorizer, tfidf_matrix, model, sentence_embeddings)\n",
        "        predicted_label = \"RELEVANT\" if max(scores) > threshold else \"NOT RELEVANT\"\n",
        "        predictions.append(predicted_label)\n",
        "\n",
        "    print(classification_report(y_test, predictions))"
      ],
      "metadata": {
        "id": "PejRi0BdhyZO"
      },
      "execution_count": null,
      "outputs": []
    },
    {
      "cell_type": "markdown",
      "source": [
        "Generating Recommendations for the test set that we have been given"
      ],
      "metadata": {
        "id": "JYWvGdFnh8pj"
      }
    },
    {
      "cell_type": "code",
      "source": [
        "def recommend_articles_for_test(test_df, labels_df, tfidf_vectorizer, tfidf_matrix, model, sentence_embeddings, threshold, top_k=5):\n",
        "    \"\"\"Generate recommendations for the test set, ensuring no duplicate slugs.\"\"\"\n",
        "    recommendations = {}\n",
        "\n",
        "    for search_term in test_df[\"searchTerm\"]:\n",
        "        scores = compute_similarity(search_term, tfidf_vectorizer, tfidf_matrix, model, sentence_embeddings)\n",
        "        top_indices = np.argsort(scores)[::-1][:top_k]\n",
        "        top_scores = scores[top_indices]\n",
        "\n",
        "        if max(top_scores) < threshold:\n",
        "            recommendations[search_term] = \"Result not found\"\n",
        "        else:\n",
        "            # Get candidate rows: each row is a list [slug, title, processed_title]\n",
        "            candidate_rows = labels_df.iloc[top_indices][[\"slug\", \"title\", \"processed_title\"]].values.tolist()\n",
        "\n",
        "            # Remove duplicates by slug\n",
        "            seen_slugs = set()  # This set keeps track of the slugs we've already seen\n",
        "            unique_candidates = []\n",
        "\n",
        "            for candidate in candidate_rows:\n",
        "                slug, title, _ = candidate\n",
        "                if slug not in seen_slugs:  # If the slug has not been seen before, add to the result\n",
        "                    unique_candidates.append([slug, title])\n",
        "                    seen_slugs.add(slug)  # Mark this slug as seen\n",
        "\n",
        "            # Add to recommendations\n",
        "            recommendations[search_term] = unique_candidates\n",
        "\n",
        "    return recommendations\n"
      ],
      "metadata": {
        "id": "aLIhc3HPk866"
      },
      "execution_count": null,
      "outputs": []
    },
    {
      "cell_type": "markdown",
      "source": [
        "Formatting Recommendation : The recommendations are not visually appealing"
      ],
      "metadata": {
        "id": "qrADeM8alxJF"
      }
    },
    {
      "cell_type": "code",
      "source": [
        "def format_recommendations(recommendations):\n",
        "    \"\"\"Format recommendations for display.\"\"\"\n",
        "    formatted_output = []\n",
        "\n",
        "    for search_term, articles in recommendations.items():\n",
        "        formatted_output.append(f\"\\nSearch Term: **{search_term}**\\n\")\n",
        "        if articles == \"Result not found\":\n",
        "            formatted_output.append(\"Result not found\")\n",
        "        else:\n",
        "            table_data = []\n",
        "            for slug, title in articles:\n",
        "                table_data.append([slug, title])\n",
        "\n",
        "            formatted_output.append(tabulate(table_data, headers=[\"Slug\", \"Recommended Title\"], tablefmt=\"grid\"))\n",
        "\n",
        "    return \"\\n\".join(formatted_output)\n"
      ],
      "metadata": {
        "id": "OW_Murpclv30"
      },
      "execution_count": null,
      "outputs": []
    },
    {
      "cell_type": "markdown",
      "source": [
        "Define Main Function:"
      ],
      "metadata": {
        "id": "olos0GcilLlG"
      }
    },
    {
      "cell_type": "code",
      "source": [
        "def main():\n",
        "    # Load and preprocess data\n",
        "    content_df, labels_df, test_df = load_data()\n",
        "    labels_df = preprocess_data(labels_df)\n",
        "\n",
        "    # Fit TF-IDF and generate embeddings\n",
        "    tfidf_vectorizer, tfidf_matrix, model, sentence_embeddings = fit_tfidf_and_embeddings(labels_df)\n",
        "\n",
        "    # Find the best threshold\n",
        "    best_threshold, best_f1 = find_best_threshold(labels_df, tfidf_vectorizer, tfidf_matrix, model, sentence_embeddings)\n",
        "    print(f\"Best threshold: {best_threshold} with macro F1: {best_f1}\")\n",
        "\n",
        "    # Evaluate model performance\n",
        "    evaluate_model(labels_df, tfidf_vectorizer, tfidf_matrix, model, sentence_embeddings, best_threshold)\n",
        "\n",
        "    # Generate recommendations for the test set\n",
        "    recommendations = recommend_articles_for_test(test_df, labels_df, tfidf_vectorizer, tfidf_matrix, model, sentence_embeddings, best_threshold, top_k=5)\n",
        "    print(format_recommendations(recommendations))\n"
      ],
      "metadata": {
        "id": "mncNseHplOVk"
      },
      "execution_count": null,
      "outputs": []
    },
    {
      "cell_type": "code",
      "source": [
        "if __name__ == \"__main__\":\n",
        "    main()"
      ],
      "metadata": {
        "colab": {
          "base_uri": "https://localhost:8080/"
        },
        "id": "_Vl1J91vlZIM",
        "outputId": "a55e7795-8f5c-4f11-ec85-145966cc90ba"
      },
      "execution_count": null,
      "outputs": [
        {
          "output_type": "stream",
          "name": "stdout",
          "text": [
            "Best threshold: 0.33 with macro F1: 0.7502165883908622\n",
            "              precision    recall  f1-score   support\n",
            "\n",
            "NOT RELEVANT       0.60      0.67      0.64        43\n",
            "    RELEVANT       0.88      0.85      0.86       123\n",
            "\n",
            "    accuracy                           0.80       166\n",
            "   macro avg       0.74      0.76      0.75       166\n",
            "weighted avg       0.81      0.80      0.80       166\n",
            "\n",
            "\n",
            "Search Term: **34 in. to 36 in. x 72 in. shower door**\n",
            "\n",
            "+------------------------------------+------------------------------------+\n",
            "| Slug                               | Recommended Title                  |\n",
            "+====================================+====================================+\n",
            "| tips-for-selecting-shower-doors    | Tips for Selecting Shower Doors    |\n",
            "+------------------------------------+------------------------------------+\n",
            "| how-to-install-a-pivot-shower-door | How To Install a Pivot Shower Door |\n",
            "+------------------------------------+------------------------------------+\n",
            "\n",
            "Search Term: **outdoor prelit christmas tree**\n",
            "\n",
            "+------------------------------------------------+------------------------------------------------+\n",
            "| Slug                                           | Recommended Title                              |\n",
            "+================================================+================================================+\n",
            "| how-to-decorate-a-christmas-tree               | How to Decorate a Christmas Tree               |\n",
            "+------------------------------------------------+------------------------------------------------+\n",
            "| traditional-nostalgic-christmas-tree           | Traditional Nostalgic Christmas Tree           |\n",
            "+------------------------------------------------+------------------------------------------------+\n",
            "| best-artificial-christmas-trees-for-the-season | Best Artificial Christmas Trees for the Season |\n",
            "+------------------------------------------------+------------------------------------------------+\n",
            "| how-to-make-a-christmas-tree-card-holder       | How to Make a Christmas Tree Card Holder       |\n",
            "+------------------------------------------------+------------------------------------------------+\n",
            "| how-to-decorate-for-christmas-with-lights      | How to Decorate for Christmas with Lights      |\n",
            "+------------------------------------------------+------------------------------------------------+\n",
            "\n",
            "Search Term: **respirators**\n",
            "\n",
            "+---------------------------------------+---------------------------------------+\n",
            "| Slug                                  | Recommended Title                     |\n",
            "+=======================================+=======================================+\n",
            "| types-of-respirator-masks             | Types of Respirator Masks             |\n",
            "+---------------------------------------+---------------------------------------+\n",
            "| best-air-filters-for-your-home        | Best Air Filters for Your Home        |\n",
            "+---------------------------------------+---------------------------------------+\n",
            "| best-air-compressors-for-your-project | Best Air Compressors for Your Project |\n",
            "+---------------------------------------+---------------------------------------+\n",
            "\n",
            "Search Term: **1 gal #hdgb28 paint with primer**\n",
            "\n",
            "+---------------------+---------------------+\n",
            "| Slug                | Recommended Title   |\n",
            "+=====================+=====================+\n",
            "| how-to-paint-a-room | How to Paint a Room |\n",
            "+---------------------+---------------------+\n",
            "\n",
            "Search Term: **hydrangea**\n",
            "\n",
            "Result not found\n"
          ]
        }
      ]
    },
    {
      "cell_type": "code",
      "source": [],
      "metadata": {
        "id": "H3memxzylbL3"
      },
      "execution_count": null,
      "outputs": []
    }
  ]
}