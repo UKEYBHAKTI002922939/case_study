{
  "nbformat": 4,
  "nbformat_minor": 0,
  "metadata": {
    "colab": {
      "provenance": []
    },
    "kernelspec": {
      "name": "python3",
      "display_name": "Python 3"
    },
    "language_info": {
      "name": "python"
    }
  },
  "cells": [
    {
      "cell_type": "code",
      "execution_count": 1,
      "metadata": {
        "colab": {
          "base_uri": "https://localhost:8080/"
        },
        "id": "gJVSrBkKdp23",
        "outputId": "e0372b22-e20b-41b6-bc40-cf75dfc4219e"
      },
      "outputs": [
        {
          "output_type": "stream",
          "name": "stdout",
          "text": [
            "Mounted at /content/drive\n"
          ]
        }
      ],
      "source": [
        "from google.colab import drive\n",
        "drive.mount('/content/drive')\n"
      ]
    },
    {
      "cell_type": "code",
      "source": [
        "/content/drive/MyDrive/Home_depo/content_data_MASTER.csv"
      ],
      "metadata": {
        "colab": {
          "base_uri": "https://localhost:8080/",
          "height": 144
        },
        "id": "rq9FzWrKfF0n",
        "outputId": "2d9b5cc8-ee23-4fe0-de00-1563c706f438"
      },
      "execution_count": 4,
      "outputs": [
        {
          "output_type": "error",
          "ename": "NameError",
          "evalue": "name 'content' is not defined",
          "traceback": [
            "\u001b[0;31m---------------------------------------------------------------------------\u001b[0m",
            "\u001b[0;31mNameError\u001b[0m                                 Traceback (most recent call last)",
            "\u001b[0;32m<ipython-input-4-c6acd674bb7f>\u001b[0m in \u001b[0;36m<cell line: 0>\u001b[0;34m()\u001b[0m\n\u001b[0;32m----> 1\u001b[0;31m \u001b[0mcontent\u001b[0m\u001b[0;34m/\u001b[0m\u001b[0mdrive\u001b[0m\u001b[0;34m/\u001b[0m\u001b[0mHome_depo\u001b[0m\u001b[0;34m\u001b[0m\u001b[0;34m\u001b[0m\u001b[0m\n\u001b[0m",
            "\u001b[0;31mNameError\u001b[0m: name 'content' is not defined"
          ]
        }
      ]
    },
    {
      "cell_type": "markdown",
      "source": [
        "Importing Imports that we require"
      ],
      "metadata": {
        "id": "FywbEX1VgHry"
      }
    },
    {
      "cell_type": "code",
      "source": [
        "import pandas as pd\n",
        "import numpy as np\n",
        "import re\n",
        "import string\n",
        "import tabulate\n",
        "from sklearn.feature_extraction.text import TfidfVectorizer\n",
        "from sklearn.metrics.pairwise import cosine_similarity\n",
        "from sklearn.model_selection import train_test_split\n",
        "from sklearn.metrics import classification_report, f1_score\n",
        "from tabulate import tabulate"
      ],
      "metadata": {
        "id": "GN1DetvkgAEW"
      },
      "execution_count": 6,
      "outputs": []
    },
    {
      "cell_type": "markdown",
      "source": [
        "Loading Data --> Renaming Columns  --> Merging content data with labels data"
      ],
      "metadata": {
        "id": "xmVEBzb0gUxl"
      }
    },
    {
      "cell_type": "code",
      "source": [
        "def load_data():\n",
        "    \"\"\"Load and preprocess the datasets.\"\"\"\n",
        "    content_df = pd.read_csv(\"/content/drive/MyDrive/Home_depo/content_data_MASTER.csv\")  # Contains 'title', 'slug'\n",
        "    labels_df = pd.read_csv(\"/content/drive/MyDrive/Home_depo/labels_MASTER.csv\")      # Has incorrect column names\n",
        "    test_df = pd.read_csv(\"/content/drive/MyDrive/Home_depo/test_MASTER.csv\")          # Contains 'searchTerm'\n",
        "\n",
        "    # Rename columns in labels_df\n",
        "    labels_df.rename(columns={'#4 #14 connector': 'searchTerm',\n",
        "                              'types-of-pipe-fittings': 'slug',\n",
        "                              'RELEVANT': 'label'}, inplace=True)\n",
        "\n",
        "    # Merge labels with content to get titles (only labeled rows will have a title)\n",
        "    labels_df = labels_df.merge(content_df, on=\"slug\", how=\"left\")\n",
        "\n",
        "    # Remove rows with missing titles, drop duplicates, and reset index\n",
        "    labels_df.dropna(subset=[\"title\"], inplace=True)\n",
        "    labels_df.drop_duplicates(inplace=True)\n",
        "    labels_df.reset_index(drop=True, inplace=True)\n",
        "    return content_df, labels_df, test_df\n"
      ],
      "metadata": {
        "id": "7soQXb-Dfpek"
      },
      "execution_count": 7,
      "outputs": []
    },
    {
      "cell_type": "markdown",
      "source": [
        "Preprocess text by lowercasing, removing punctuation, and extra spaces."
      ],
      "metadata": {
        "id": "BZUVRbNPg3Az"
      }
    },
    {
      "cell_type": "code",
      "source": [
        "def preprocess_text(text):\n",
        "    \"\"\"Preprocess text by lowercasing, removing punctuation, and extra spaces.\"\"\"\n",
        "    text = str(text).lower()\n",
        "    text = re.sub(f\"[{string.punctuation}]\", \"\", text)  # Remove punctuation\n",
        "    text = re.sub(r\"\\s+\", \" \", text).strip()             # Remove extra spaces\n",
        "    return text"
      ],
      "metadata": {
        "id": "YKDW-8aSg4FO"
      },
      "execution_count": 8,
      "outputs": []
    },
    {
      "cell_type": "markdown",
      "source": [
        "Apply text preprocessing to search terms and titles."
      ],
      "metadata": {
        "id": "ax2276hNhJ_0"
      }
    },
    {
      "cell_type": "code",
      "source": [
        "def preprocess_data(labels_df):\n",
        "    \"\"\"Apply text preprocessing to search terms and titles.\"\"\"\n",
        "    labels_df[\"processed_search\"] = labels_df[\"searchTerm\"].apply(preprocess_text)\n",
        "    labels_df[\"processed_title\"] = labels_df[\"title\"].apply(preprocess_text)\n",
        "    labels_df[\"processed_slug\"] = labels_df[\"slug\"].apply(preprocess_text)\n",
        "    return labels_df"
      ],
      "metadata": {
        "id": "ZIlEN7mKhIv0"
      },
      "execution_count": 9,
      "outputs": []
    },
    {
      "cell_type": "markdown",
      "source": [
        "Vectorize processed text using TF-IDF"
      ],
      "metadata": {
        "id": "Kc34doSahS36"
      }
    },
    {
      "cell_type": "code",
      "source": [
        "def fit_tfidf(labels_df):\n",
        "    \"\"\"Fit TF-IDF vectorizer.\"\"\"\n",
        "    tfidf_vectorizer = TfidfVectorizer()\n",
        "    tfidf_matrix = tfidf_vectorizer.fit_transform(labels_df[\"processed_title\"])\n",
        "    return tfidf_vectorizer, tfidf_matrix\n"
      ],
      "metadata": {
        "id": "eJj5ABAthTjX"
      },
      "execution_count": 10,
      "outputs": []
    },
    {
      "cell_type": "markdown",
      "source": [
        "Compute Cosine similarity scores using TF-IDF vectors"
      ],
      "metadata": {
        "id": "7eDE0wOlhh88"
      }
    },
    {
      "cell_type": "code",
      "source": [
        "def compute_similarity(search_term, tfidf_vectorizer, tfidf_matrix):\n",
        "    \"\"\"Compute similarity scores using TF-IDF.\"\"\"\n",
        "    search_term_processed = preprocess_text(search_term)\n",
        "\n",
        "    # Compute similarity with TF-IDF\n",
        "    search_tfidf = tfidf_vectorizer.transform([search_term_processed])\n",
        "    tfidf_similarities = cosine_similarity(search_tfidf, tfidf_matrix).flatten()\n",
        "    return tfidf_similarities\n"
      ],
      "metadata": {
        "id": "5ZJa0aKVhe20"
      },
      "execution_count": 11,
      "outputs": []
    },
    {
      "cell_type": "markdown",
      "source": [
        "Find the best threshold for classifying search terms as RELEVANT or NOT RELEVANT."
      ],
      "metadata": {
        "id": "V29UCrLQhrBp"
      }
    },
    {
      "cell_type": "code",
      "source": [
        "def find_best_threshold(labels_df, tfidf_vectorizer, tfidf_matrix):\n",
        "    \"\"\"Find the best threshold for classifying search terms as RELEVANT or NOT RELEVANT.\"\"\"\n",
        "    thresholds = np.linspace(0, 1, 101)\n",
        "    best_threshold = None\n",
        "    best_f1 = 0\n",
        "\n",
        "    # Split labeled data for evaluation\n",
        "    X_train, X_test, y_train, y_test = train_test_split(labels_df[\"processed_search\"], labels_df[\"label\"], test_size=0.2, random_state=42)\n",
        "\n",
        "    # Mapping for binary evaluation\n",
        "    label_mapping = {\"NOT RELEVANT\": 0, \"RELEVANT\": 1}\n",
        "    y_test_num = [label_mapping[label] for label in y_test]\n",
        "\n",
        "    for t in thresholds:\n",
        "        preds = []\n",
        "        for search_term in X_test:\n",
        "            scores = compute_similarity(search_term, tfidf_vectorizer, tfidf_matrix)\n",
        "            pred = \"RELEVANT\" if max(scores) > t else \"NOT RELEVANT\"\n",
        "            preds.append(pred)\n",
        "\n",
        "        y_pred_num = [label_mapping[p] for p in preds]\n",
        "        f1 = f1_score(y_test_num, y_pred_num, average=\"macro\")\n",
        "        if f1 > best_f1:\n",
        "            best_f1 = f1\n",
        "            best_threshold = t\n",
        "\n",
        "    return best_threshold, best_f1"
      ],
      "metadata": {
        "id": "bnLNma7KhrYU"
      },
      "execution_count": 12,
      "outputs": []
    },
    {
      "cell_type": "markdown",
      "source": [
        "**Model Evaluation**"
      ],
      "metadata": {
        "id": "EA-iENcIh2bS"
      }
    },
    {
      "cell_type": "code",
      "source": [
        "def evaluate_model(labels_df, tfidf_vectorizer, tfidf_matrix, threshold):\n",
        "    \"\"\"Evaluate model performance using the best threshold.\"\"\"\n",
        "    X_train, X_test, y_train, y_test = train_test_split(labels_df[\"processed_search\"], labels_df[\"label\"], test_size=0.2, random_state=42)\n",
        "    predictions = []\n",
        "\n",
        "    for search_term in X_test:\n",
        "        scores = compute_similarity(search_term, tfidf_vectorizer, tfidf_matrix)\n",
        "        predicted_label = \"RELEVANT\" if max(scores) > threshold else \"NOT RELEVANT\"\n",
        "        predictions.append(predicted_label)\n",
        "\n",
        "    print(classification_report(y_test, predictions))"
      ],
      "metadata": {
        "id": "PejRi0BdhyZO"
      },
      "execution_count": 13,
      "outputs": []
    },
    {
      "cell_type": "markdown",
      "source": [
        "Generating Recommendations for the test set"
      ],
      "metadata": {
        "id": "JYWvGdFnh8pj"
      }
    },
    {
      "cell_type": "code",
      "source": [
        "def recommend_articles_for_test(test_df, labels_df, tfidf_vectorizer, tfidf_matrix, threshold, top_k=5):\n",
        "    \"\"\"Generate recommendations for the test set.\"\"\"\n",
        "    recommendations = {}\n",
        "\n",
        "    for search_term in test_df[\"searchTerm\"]:\n",
        "        scores = compute_similarity(search_term, tfidf_vectorizer, tfidf_matrix)\n",
        "        top_indices = np.argsort(scores)[::-1][:top_k]\n",
        "        top_scores = scores[top_indices]\n",
        "\n",
        "        if max(top_scores) < threshold:\n",
        "            recommendations[search_term] = \"Result not found\"\n",
        "        else:\n",
        "            # Get candidate rows: each row is a list [slug, title, processed_title]\n",
        "            candidate_rows = labels_df.iloc[top_indices][[\"slug\", \"title\", \"processed_title\"]].values.tolist()\n",
        "\n",
        "            # Remove duplicates by checking the normalized slug:\n",
        "            filtered_candidates = []\n",
        "            seen_slugs = set()\n",
        "            for candidate in candidate_rows:\n",
        "                slug, title, _ = candidate\n",
        "                slug_norm = \"\".join(str(slug).lower().split())  # Normalizing the slug\n",
        "\n",
        "                if slug_norm not in seen_slugs:\n",
        "                    filtered_candidates.append([slug, title])\n",
        "                    seen_slugs.add(slug_norm)\n",
        "\n",
        "            recommendations[search_term] = filtered_candidates\n",
        "\n",
        "    return recommendations\n"
      ],
      "metadata": {
        "id": "aLIhc3HPk866"
      },
      "execution_count": 14,
      "outputs": []
    },
    {
      "cell_type": "markdown",
      "source": [
        "Formatting Recommendation : The recommendations are not visually appealing"
      ],
      "metadata": {
        "id": "qrADeM8alxJF"
      }
    },
    {
      "cell_type": "code",
      "source": [
        "def format_recommendations(recommendations):\n",
        "    \"\"\"Format recommendations for display.\"\"\"\n",
        "    formatted_output = []\n",
        "\n",
        "    for search_term, articles in recommendations.items():\n",
        "        formatted_output.append(f\"\\nSearch Term: **{search_term}**\\n\")\n",
        "        if articles == \"Result not found\":\n",
        "            formatted_output.append(\"Result not found\")\n",
        "        else:\n",
        "            table_data = []\n",
        "            for slug, title in articles:\n",
        "                table_data.append([slug, title])\n",
        "\n",
        "            formatted_output.append(tabulate(table_data, headers=[\"Slug\", \"Recommended Title\"], tablefmt=\"grid\"))\n",
        "\n",
        "    return \"\\n\".join(formatted_output)\n"
      ],
      "metadata": {
        "id": "OW_Murpclv30"
      },
      "execution_count": 17,
      "outputs": []
    },
    {
      "cell_type": "markdown",
      "source": [
        "Define Main"
      ],
      "metadata": {
        "id": "olos0GcilLlG"
      }
    },
    {
      "cell_type": "code",
      "source": [
        "def main():\n",
        "    # Load and preprocess data\n",
        "    content_df, labels_df, test_df = load_data()\n",
        "    labels_df = preprocess_data(labels_df)\n",
        "\n",
        "    # Fit TF-IDF\n",
        "    tfidf_vectorizer, tfidf_matrix = fit_tfidf(labels_df)\n",
        "\n",
        "    # Find the best threshold\n",
        "    best_threshold, best_f1 = find_best_threshold(labels_df, tfidf_vectorizer, tfidf_matrix)\n",
        "    print(f\"Best threshold: {best_threshold} with macro F1: {best_f1}\")\n",
        "\n",
        "    # Evaluate model performance\n",
        "    evaluate_model(labels_df, tfidf_vectorizer, tfidf_matrix, best_threshold)\n",
        "\n",
        "    # Generate recommendations for the test set\n",
        "    recommendations = recommend_articles_for_test(test_df, labels_df, tfidf_vectorizer, tfidf_matrix, best_threshold, top_k=5)\n",
        "    print(format_recommendations(recommendations))\n"
      ],
      "metadata": {
        "id": "mncNseHplOVk"
      },
      "execution_count": 18,
      "outputs": []
    },
    {
      "cell_type": "code",
      "source": [
        "if __name__ == \"__main__\":\n",
        "    main()"
      ],
      "metadata": {
        "colab": {
          "base_uri": "https://localhost:8080/"
        },
        "id": "_Vl1J91vlZIM",
        "outputId": "9f2a32bd-178e-4271-b8e5-09e8a2ba22c6"
      },
      "execution_count": 19,
      "outputs": [
        {
          "output_type": "stream",
          "name": "stdout",
          "text": [
            "Best threshold: 0.35000000000000003 with macro F1: 0.6078363583981561\n",
            "              precision    recall  f1-score   support\n",
            "\n",
            "NOT RELEVANT       0.55      0.28      0.37        43\n",
            "    RELEVANT       0.78      0.92      0.85       123\n",
            "\n",
            "    accuracy                           0.75       166\n",
            "   macro avg       0.67      0.60      0.61       166\n",
            "weighted avg       0.72      0.75      0.72       166\n",
            "\n",
            "\n",
            "Search Term: **34 in. to 36 in. x 72 in. shower door**\n",
            "\n",
            "+---------------------------------------------+---------------------------------------------+\n",
            "| Slug                                        | Recommended Title                           |\n",
            "+=============================================+=============================================+\n",
            "| how-to-screen-in-a-porch                    | How to Screen in a Porch                    |\n",
            "+---------------------------------------------+---------------------------------------------+\n",
            "| how-to-care-for-roses-in-summer             | How to Care for Roses in Summer             |\n",
            "+---------------------------------------------+---------------------------------------------+\n",
            "| how-to-kill-weeds-in-your-lawn              | How to Kill Weeds in Your Lawn              |\n",
            "+---------------------------------------------+---------------------------------------------+\n",
            "| how-to-set-a-pattern-in-floor-tile          | How to Set a Pattern in Floor Tile          |\n",
            "+---------------------------------------------+---------------------------------------------+\n",
            "| how-to-repair-cracks-in-a-concrete-driveway | How to Repair Cracks in a Concrete Driveway |\n",
            "+---------------------------------------------+---------------------------------------------+\n",
            "\n",
            "Search Term: **outdoor prelit christmas tree**\n",
            "\n",
            "+------------------------------------------+------------------------------------------+\n",
            "| Slug                                     | Recommended Title                        |\n",
            "+==========================================+==========================================+\n",
            "| how-to-decorate-a-christmas-tree         | How to Decorate a Christmas Tree         |\n",
            "+------------------------------------------+------------------------------------------+\n",
            "| traditional-nostalgic-christmas-tree     | Traditional Nostalgic Christmas Tree     |\n",
            "+------------------------------------------+------------------------------------------+\n",
            "| how-to-make-a-christmas-tree-card-holder | How to Make a Christmas Tree Card Holder |\n",
            "+------------------------------------------+------------------------------------------+\n",
            "| how-to-fix-christmas-tree-lights         | How to Fix Christmas Lights              |\n",
            "+------------------------------------------+------------------------------------------+\n",
            "| outdoor-decor-ideas                      | Outdoor Decor Ideas                      |\n",
            "+------------------------------------------+------------------------------------------+\n",
            "\n",
            "Search Term: **respirators**\n",
            "\n",
            "Result not found\n",
            "\n",
            "Search Term: **1 gal #hdgb28 paint with primer**\n",
            "\n",
            "+---------------------+---------------------+\n",
            "| Slug                | Recommended Title   |\n",
            "+=====================+=====================+\n",
            "| how-to-paint-a-room | How to Paint a Room |\n",
            "+---------------------+---------------------+\n",
            "\n",
            "Search Term: **hydrangea**\n",
            "\n",
            "Result not found\n"
          ]
        }
      ]
    },
    {
      "cell_type": "code",
      "source": [],
      "metadata": {
        "id": "H3memxzylbL3"
      },
      "execution_count": null,
      "outputs": []
    }
  ]
}